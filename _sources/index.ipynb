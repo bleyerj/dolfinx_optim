{
 "cells": [
  {
   "cell_type": "markdown",
   "id": "f3005bdc",
   "metadata": {},
   "source": [
    "# `dolfinx_optim` documentation\n",
    "\n",
    "```{seealso}\n",
    "This project is a rewrite of the [`fenics_optim` package](https://gitlab.enpc.fr/navier-fenics/fenics-optim) working with the legacy FEniCS version.\n",
    "```\n",
    "\n",
    "## Introduction\n",
    "\n",
    "```{include} ../README.md\n",
    ":start-line: 1\n",
    "```\n",
    "\n",
    "```{image} images/banner_tutelles.png\n",
    ":class: bg-primary mb-1\n",
    ":width: 600px\n",
    ":align: center\n",
    "```"
   ]
  }
 ],
 "metadata": {
  "jupytext": {
   "cell_metadata_filter": "-all",
   "main_language": "python",
   "notebook_metadata_filter": "-all"
  }
 },
 "nbformat": 4,
 "nbformat_minor": 5
}
