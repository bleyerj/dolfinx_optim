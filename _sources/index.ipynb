{
 "cells": [
  {
   "cell_type": "markdown",
   "id": "28d4a332",
   "metadata": {},
   "source": [
    "# `dolfinx_optim` documentation\n",
    "\n",
    "## Introduction\n",
    "\n",
    "`dolfinx_optim` is a convex optimization add-on package to the `FEniCSx` finite-element library. It provides a simple Domain-Specific Language through FEniCSx `dolfinx` Python interface for solving convex optimization problems. In particular, it relies on the `Mosek` mathematical programming library. `Mosek` provides a state-of-the art interior-point solver for linear programming (LP), convex quadratic programming (QP), second-order conic programming (SOCP) and semi-definite programming (SDP).\n",
    "\n",
    "```{seealso}\n",
    "This project is a rewrite of the [`fenics_optim` package](https://gitlab.enpc.fr/navier-fenics/fenics-optim) working with the legacy FEniCS version.\n",
    "```\n",
    "\n",
    "<!-- [![Documentation Status](https://readthedocs.org/projects/fenics-optim/badge/?version=latest)](https://fenics-optim.readthedocs.io/en/latest/)\n",
    "[![DOI](https://zenodo.org/badge/DOI/10.5281/zenodo.3604085.svg)](https://doi.org/10.5281/zenodo.3604085)\n",
    "[![Code style: black](https://img.shields.io/badge/code%20style-black-000000.svg)](https://github.com/psf/black) -->\n",
    "\n",
    "## Prerequisites\n",
    "**dolfinx_optim** requires: \n",
    "* **FEniCSx** (v.0.8), see [installation instructions here](https://fenicsproject.org/download/).\n",
    "* **MOSEK** (>= version 10 with its Python Fusion interface), see [installation instructions here](https://www.mosek.com/downloads/). The Python interface can be simply installed via `pip`:\n",
    "\n",
    "```{code-block} bash\n",
    "pip install -f https://download.mosek.com/stable/wheel/index.html Mosek\n",
    "```\n",
    "\n",
    "Mosek is a commercial software so users need a valid Mosek license. Free unlimited licenses are available for education and research purposes, see the [Academic License section](https://www.mosek.com/products/academic-licenses/).\n",
    "\n",
    "## Installation and usage\n",
    "Simply clone the [`dolfinx_optim` public repository](https://github.com/bleyerj/dolfinx_optim)\n",
    "```\n",
    "https://github.com/bleyerj/dolfinx_optim\n",
    "```\n",
    "and install the package by typing\n",
    "```\n",
    "pip install dolfinx_optim/ --user\n",
    "```\n",
    "\n",
    "## Features\n",
    "Current version supports variational problem formulations resulting in Linear Programs, Second-Order Cone Programs, Semi-Definite Programs and Power or Exponential cone programs.\n",
    "\n",
    "## License\n",
    "\n",
    "All this work is licensed under the [Creative Commons Attribution-ShareAlike 4.0 International License](http://creativecommons.org/licenses/by-sa/4.0/>) ![license](https://i.creativecommons.org/l/by-sa/4.0/88x31.png)."
   ]
  },
  {
   "cell_type": "markdown",
   "id": "4d9cc37f",
   "metadata": {},
   "source": [
    "## About the author\n",
    "\n",
    "[Jeremy Bleyer](https://bleyerj.github.io/) is a researcher in Solid and Structural Mechanics at [Laboratoire Navier](https://navier-lab.fr), a joint research  (UMR 8205) of [Ecole Nationale des Ponts et Chaussées](http://www.enpc.fr),\n",
    "[Université Gustave Eiffel](https://www.univ-gustave-eiffel.fr/) and [CNRS](http://www.cnrs.fr).\n",
    "\n",
    "[{fas}`at` jeremy.bleyer@enpc.fr](mailto:jeremy.bleyer@enpc.fr)\n",
    "\n",
    "[{fab}`linkedin` jeremy-bleyer](http://www.linkedin.com/in/jérémy-bleyer-0aabb531)\n",
    "\n",
    "<a href=\"https://orcid.org/0000-0001-8212-9921\">\n",
    "<img alt=\"ORCID logo\" src=\"https://info.orcid.org/wp-content/uploads/2019/11/orcid_32x32.png\" width=\"16\" height=\"16\" />\n",
    " 0000-0001-8212-9921\n",
    "</a>\n",
    "\n",
    "$\\,$\n",
    "\n",
    "```{image} images/banner_tutelles.png\n",
    ":class: bg-primary mb-1\n",
    ":width: 600px\n",
    ":align: center\n",
    "```"
   ]
  }
 ],
 "metadata": {
  "jupytext": {
   "cell_metadata_filter": "-all",
   "main_language": "python",
   "notebook_metadata_filter": "-all"
  }
 },
 "nbformat": 4,
 "nbformat_minor": 5
}
